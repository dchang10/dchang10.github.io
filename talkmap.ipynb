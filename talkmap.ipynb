{
 "cells": [
  {
   "cell_type": "markdown",
   "metadata": {},
   "source": [
    "# Leaflet cluster map of talk locations\n",
    "\n",
    "Run this from the _talks/ directory, which contains .md files of all your talks. This scrapes the location YAML field from each .md file, geolocates it with geopy/Nominatim, and uses the getorg library to output data, HTML, and Javascript for a standalone cluster map."
   ]
  },
  {
   "cell_type": "code",
   "execution_count": 15,
   "metadata": {
    "collapsed": false
   },
   "outputs": [
    {
     "name": "stdout",
     "output_type": "stream",
     "text": [
      "Requirement already satisfied: getorg in /opt/homebrew/lib/python3.11/site-packages (0.3.1)\n",
      "Requirement already satisfied: geopy in /opt/homebrew/lib/python3.11/site-packages (from getorg) (2.4.0)\n",
      "Requirement already satisfied: pygithub in /opt/homebrew/lib/python3.11/site-packages (from getorg) (1.59.1)\n",
      "Requirement already satisfied: retrying in /opt/homebrew/lib/python3.11/site-packages (from getorg) (1.3.4)\n",
      "Requirement already satisfied: geographiclib<3,>=1.52 in /opt/homebrew/lib/python3.11/site-packages (from geopy->getorg) (2.0)\n",
      "Requirement already satisfied: deprecated in /opt/homebrew/lib/python3.11/site-packages (from pygithub->getorg) (1.2.14)\n",
      "Requirement already satisfied: pyjwt[crypto]>=2.4.0 in /opt/homebrew/lib/python3.11/site-packages (from pygithub->getorg) (2.8.0)\n",
      "Requirement already satisfied: pynacl>=1.4.0 in /opt/homebrew/lib/python3.11/site-packages (from pygithub->getorg) (1.5.0)\n",
      "Requirement already satisfied: requests>=2.14.0 in /opt/homebrew/lib/python3.11/site-packages (from pygithub->getorg) (2.31.0)\n",
      "Requirement already satisfied: six>=1.7.0 in /opt/homebrew/lib/python3.11/site-packages (from retrying->getorg) (1.16.0)\n",
      "Requirement already satisfied: cryptography>=3.4.0 in /opt/homebrew/lib/python3.11/site-packages (from pyjwt[crypto]>=2.4.0->pygithub->getorg) (41.0.3)\n",
      "Requirement already satisfied: cffi>=1.4.1 in /opt/homebrew/lib/python3.11/site-packages (from pynacl>=1.4.0->pygithub->getorg) (1.15.1)\n",
      "Requirement already satisfied: charset-normalizer<4,>=2 in /opt/homebrew/lib/python3.11/site-packages (from requests>=2.14.0->pygithub->getorg) (3.2.0)\n",
      "Requirement already satisfied: idna<4,>=2.5 in /opt/homebrew/lib/python3.11/site-packages (from requests>=2.14.0->pygithub->getorg) (3.4)\n",
      "Requirement already satisfied: urllib3<3,>=1.21.1 in /opt/homebrew/lib/python3.11/site-packages (from requests>=2.14.0->pygithub->getorg) (1.26.16)\n",
      "Requirement already satisfied: certifi>=2017.4.17 in /opt/homebrew/lib/python3.11/site-packages (from requests>=2.14.0->pygithub->getorg) (2023.7.22)\n",
      "Requirement already satisfied: wrapt<2,>=1.10 in /opt/homebrew/lib/python3.11/site-packages (from deprecated->pygithub->getorg) (1.15.0)\n",
      "Requirement already satisfied: pycparser in /opt/homebrew/lib/python3.11/site-packages (from cffi>=1.4.1->pynacl>=1.4.0->pygithub->getorg) (2.21)\n"
     ]
    }
   ],
   "source": [
    "!pip install getorg --upgrade\n",
    "import glob\n",
    "import getorg\n",
    "from geopy import Nominatim"
   ]
  },
  {
   "cell_type": "code",
   "execution_count": 16,
   "metadata": {
    "collapsed": false
   },
   "outputs": [
    {
     "data": {
      "text/plain": [
       "['_talks/2021-01-22.md',\n",
       " '_talks/2021-11-09.md',\n",
       " '_talks/2022-03-25.md',\n",
       " '_talks/2022-06-20.md',\n",
       " '_talks/2022-08-17.md',\n",
       " '_talks/2023-02-25.md',\n",
       " '_talks/2023-04-04.md',\n",
       " '_talks/2023-05-11.md',\n",
       " '_talks/2023-06-28.md']"
      ]
     },
     "execution_count": 16,
     "metadata": {},
     "output_type": "execute_result"
    }
   ],
   "source": [
    "g = glob.glob(\"_talks/*.md\")\n",
    "g"
   ]
  },
  {
   "cell_type": "code",
   "execution_count": 17,
   "metadata": {
    "collapsed": true
   },
   "outputs": [],
   "source": [
    "geocoder = Nominatim(user_agent=\"dchang10.github.io\")\n",
    "location_dict = {}\n",
    "location = \"\"\n",
    "permalink = \"\"\n",
    "title = \"\""
   ]
  },
  {
   "cell_type": "code",
   "execution_count": 18,
   "metadata": {
    "collapsed": false
   },
   "outputs": [
    {
     "name": "stdout",
     "output_type": "stream",
     "text": [
      "Stanford, CA \n",
      " Stanford, Santa Clara County, California, United States\n",
      "Mona, Jamaica \n",
      " Mona, Kingston, Kingston and Saint Andrew Corporation, Surrey County, Jamaica\n",
      "Grinnell, IA, USA \n",
      " Grinnell, Poweshiek County, Iowa, 50112, United States\n",
      "Granada, Spain \n",
      " Granada, Comarca de la Vega de Granada, Granada, Andalucía, España\n",
      "New York, New York \n",
      " City of New York, New York, United States\n",
      "Kingston Jamaica \n",
      " Kingston, Surrey County, Jamaica\n",
      "Cambridge Massachusetts \n",
      " Cambridge, Middlesex County, Massachusetts, United States\n",
      "Algorithms and Inference Working Group \n",
      " None\n",
      "National Museum of Natural Science, Taichung, Taiwan \n",
      " 科博館/金典酒店, 臺灣大道二段, 忠明里, 西區, 臺中市, 403, 臺灣\n"
     ]
    }
   ],
   "source": [
    "\n",
    "for file in g:\n",
    "    with open(file, 'r') as f:\n",
    "        lines = f.read()\n",
    "        if lines.find('location: \"') > 1:\n",
    "            loc_start = lines.find('location: \"') + 11\n",
    "            lines_trim = lines[loc_start:]\n",
    "            loc_end = lines_trim.find('\"')\n",
    "            location = lines_trim[:loc_end]\n",
    "                            \n",
    "           \n",
    "        location_dict[location] = geocoder.geocode(location)\n",
    "        print(location, \"\\n\", location_dict[location])\n"
   ]
  },
  {
   "cell_type": "code",
   "execution_count": 22,
   "metadata": {
    "collapsed": false
   },
   "outputs": [
    {
     "data": {
      "text/plain": [
       "'Written map to ./'"
      ]
     },
     "execution_count": 22,
     "metadata": {},
     "output_type": "execute_result"
    }
   ],
   "source": [
    "m = getorg.orgmap.create_map_obj()\n",
    "getorg.orgmap.output_html_cluster_map(location_dict, folder_name=\"./\", hashed_usernames=False)"
   ]
  },
  {
   "cell_type": "code",
   "execution_count": null,
   "metadata": {},
   "outputs": [],
   "source": []
  }
 ],
 "metadata": {
  "anaconda-cloud": {},
  "kernelspec": {
   "display_name": "Python 3",
   "language": "python",
   "name": "python3"
  },
  "language_info": {
   "codemirror_mode": {
    "name": "ipython",
    "version": 3
   },
   "file_extension": ".py",
   "mimetype": "text/x-python",
   "name": "python",
   "nbconvert_exporter": "python",
   "pygments_lexer": "ipython3",
   "version": "3.11.4"
  }
 },
 "nbformat": 4,
 "nbformat_minor": 0
}
